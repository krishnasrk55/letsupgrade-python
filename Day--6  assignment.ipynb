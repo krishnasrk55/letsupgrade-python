{
 "cells": [
  {
   "cell_type": "markdown",
   "metadata": {},
   "source": [
    "# assignment 1"
   ]
  },
  {
   "cell_type": "code",
   "execution_count": 1,
   "metadata": {},
   "outputs": [
    {
     "name": "stdout",
     "output_type": "stream",
     "text": [
      "Acount owner:krishna\n",
      "Acount balance: Rs.10000\n"
     ]
    }
   ],
   "source": [
    "class Acount:\n",
    "    def __init__(self,owner,balance):\n",
    "        self.owner = owner\n",
    "        self.balance = balance\n",
    "    def __str__(self):\n",
    "        return 'Acount owner:{owner}\\nAcount balance: Rs.{balance}'.format(owner = self.owner,balance=self.balance)\n",
    "    \n",
    "    def deposite(self ,depo_money):\n",
    "        self.balance += depo_money\n",
    "        print('Deposite Accepted, your balance is Rs.{balance}'.format(balance=self.balance))\n",
    "        \n",
    "    def withdraw(self,wid_money):\n",
    "        if wid_money > self.balance:\n",
    "            print('funds unavailable')\n",
    "        else:\n",
    "            self.balance -= wid_money\n",
    "            print('withdrawal accepted, your balance is rs.{balance}'.format(balance=self.balance))\n",
    " \n",
    "acount_name = Acount('krishna',10000)\n",
    "print(acount_name)"
   ]
  },
  {
   "cell_type": "code",
   "execution_count": 2,
   "metadata": {},
   "outputs": [
    {
     "name": "stdout",
     "output_type": "stream",
     "text": [
      "Deposite Accepted, your balance is Rs.15000\n",
      "withdrawal accepted, your balance is rs.7500\n",
      "funds unavailable\n"
     ]
    }
   ],
   "source": [
    "acount_name.deposite(5000)\n",
    "acount_name.withdraw(7500)\n",
    "acount_name.withdraw(50000)"
   ]
  },
  {
   "cell_type": "code",
   "execution_count": 3,
   "metadata": {},
   "outputs": [
    {
     "name": "stdout",
     "output_type": "stream",
     "text": [
      "Acount owner:krishna\n",
      "Acount balance: Rs.10000\n",
      "Deposite Accepted, your balance is Rs.15000\n",
      "withdrawal accepted, your balance is rs.7500\n",
      "funds unavailable\n"
     ]
    }
   ],
   "source": [
    "acount_name = Acount('krishna',10000)\n",
    "print(acount_name)\n",
    "acount_name.deposite(5000)\n",
    "acount_name.withdraw(7500)\n",
    "acount_name.withdraw(50000)"
   ]
  },
  {
   "cell_type": "code",
   "execution_count": null,
   "metadata": {},
   "outputs": [],
   "source": [
    "\n"
   ]
  },
  {
   "cell_type": "markdown",
   "metadata": {},
   "source": [
    "# assignment 2"
   ]
  },
  {
   "cell_type": "code",
   "execution_count": 6,
   "metadata": {},
   "outputs": [
    {
     "name": "stdout",
     "output_type": "stream",
     "text": [
      "please enter the radius of a cone: 4\n",
      "please enter the height of a cone5\n",
      "\n",
      " length of side of a cone = 20.00\n",
      " surface area of cone = 301.59\n",
      " volume of a cone = 83.78\n",
      "lateral surface area of a cone= 251.33\n"
     ]
    }
   ],
   "source": [
    "import math\n",
    "\n",
    "radius = float(input('please enter the radius of a cone: '))\n",
    "height = float(input('please enter the height of a cone'))\n",
    "\n",
    "l = math.sqrt(radius*radius*height*height)\n",
    "SA = math.pi * radius * (radius + l)\n",
    "volume = (1.0/3) * math.pi * radius * radius* height\n",
    "\n",
    "LSA = math.pi * radius  * l\n",
    "\n",
    "print(\"\\n length of side of a cone = %.2f\" %l)\n",
    "print(\" surface area of cone = %.2f\" %SA)\n",
    "print(\" volume of a cone = %.2f\" %volume)\n",
    "print(\"lateral surface area of a cone= %.2f\" %LSA)"
   ]
  },
  {
   "cell_type": "code",
   "execution_count": null,
   "metadata": {},
   "outputs": [],
   "source": []
  }
 ],
 "metadata": {
  "kernelspec": {
   "display_name": "Python 3",
   "language": "python",
   "name": "python3"
  },
  "language_info": {
   "codemirror_mode": {
    "name": "ipython",
    "version": 3
   },
   "file_extension": ".py",
   "mimetype": "text/x-python",
   "name": "python",
   "nbconvert_exporter": "python",
   "pygments_lexer": "ipython3",
   "version": "3.8.3"
  }
 },
 "nbformat": 4,
 "nbformat_minor": 4
}
